{
 "cells": [
  {
   "cell_type": "markdown",
   "id": "cd2a064a-32a2-42d8-a456-b79caae216a1",
   "metadata": {},
   "source": [
    "## Laptop Price Prediction for SmartTech Co."
   ]
  },
  {
   "cell_type": "markdown",
   "id": "7e5fc78e-1c8c-442f-ba7d-d2ac2420de6e",
   "metadata": {},
   "source": [
    "### Import Required Libraries and Load the Dataset\n"
   ]
  },
  {
   "cell_type": "code",
   "execution_count": 4,
   "id": "bbd98cc8-9819-4314-bac5-0e752f930172",
   "metadata": {},
   "outputs": [],
   "source": [
    "import warnings\n",
    "warnings.filterwarnings(\"ignore\", category=UserWarning)"
   ]
  },
  {
   "cell_type": "code",
   "execution_count": 5,
   "id": "fd9191df-59f6-461b-9e01-4fce5a9fe6db",
   "metadata": {},
   "outputs": [],
   "source": [
    "import numpy as np \n",
    "import pandas as pd\n",
    "import matplotlib.pyplot as plt\n",
    "import seaborn as sns"
   ]
  },
  {
   "cell_type": "code",
   "execution_count": 6,
   "id": "bfbed64b-3078-41c9-9164-b74bf40f8be3",
   "metadata": {},
   "outputs": [],
   "source": [
    "df = pd.read_csv(r\"D:\\ML\\laptop.csv\")"
   ]
  },
  {
   "cell_type": "code",
   "execution_count": 7,
   "id": "926f2827-36de-4a9f-910b-0d11cae678ae",
   "metadata": {},
   "outputs": [
    {
     "data": {
      "text/html": [
       "<div>\n",
       "<style scoped>\n",
       "    .dataframe tbody tr th:only-of-type {\n",
       "        vertical-align: middle;\n",
       "    }\n",
       "\n",
       "    .dataframe tbody tr th {\n",
       "        vertical-align: top;\n",
       "    }\n",
       "\n",
       "    .dataframe thead th {\n",
       "        text-align: right;\n",
       "    }\n",
       "</style>\n",
       "<table border=\"1\" class=\"dataframe\">\n",
       "  <thead>\n",
       "    <tr style=\"text-align: right;\">\n",
       "      <th></th>\n",
       "      <th>Unnamed: 0.1</th>\n",
       "      <th>Unnamed: 0</th>\n",
       "      <th>Company</th>\n",
       "      <th>TypeName</th>\n",
       "      <th>Inches</th>\n",
       "      <th>ScreenResolution</th>\n",
       "      <th>Cpu</th>\n",
       "      <th>Ram</th>\n",
       "      <th>Memory</th>\n",
       "      <th>Gpu</th>\n",
       "      <th>OpSys</th>\n",
       "      <th>Weight</th>\n",
       "      <th>Price</th>\n",
       "    </tr>\n",
       "  </thead>\n",
       "  <tbody>\n",
       "    <tr>\n",
       "      <th>0</th>\n",
       "      <td>0</td>\n",
       "      <td>0.0</td>\n",
       "      <td>Apple</td>\n",
       "      <td>Ultrabook</td>\n",
       "      <td>13.3</td>\n",
       "      <td>IPS Panel Retina Display 2560x1600</td>\n",
       "      <td>Intel Core i5 2.3GHz</td>\n",
       "      <td>8GB</td>\n",
       "      <td>128GB SSD</td>\n",
       "      <td>Intel Iris Plus Graphics 640</td>\n",
       "      <td>macOS</td>\n",
       "      <td>1.37kg</td>\n",
       "      <td>71378.6832</td>\n",
       "    </tr>\n",
       "    <tr>\n",
       "      <th>1</th>\n",
       "      <td>1</td>\n",
       "      <td>1.0</td>\n",
       "      <td>Apple</td>\n",
       "      <td>Ultrabook</td>\n",
       "      <td>13.3</td>\n",
       "      <td>1440x900</td>\n",
       "      <td>Intel Core i5 1.8GHz</td>\n",
       "      <td>8GB</td>\n",
       "      <td>128GB Flash Storage</td>\n",
       "      <td>Intel HD Graphics 6000</td>\n",
       "      <td>macOS</td>\n",
       "      <td>1.34kg</td>\n",
       "      <td>47895.5232</td>\n",
       "    </tr>\n",
       "    <tr>\n",
       "      <th>2</th>\n",
       "      <td>2</td>\n",
       "      <td>2.0</td>\n",
       "      <td>HP</td>\n",
       "      <td>Notebook</td>\n",
       "      <td>15.6</td>\n",
       "      <td>Full HD 1920x1080</td>\n",
       "      <td>Intel Core i5 7200U 2.5GHz</td>\n",
       "      <td>8GB</td>\n",
       "      <td>256GB SSD</td>\n",
       "      <td>Intel HD Graphics 620</td>\n",
       "      <td>No OS</td>\n",
       "      <td>1.86kg</td>\n",
       "      <td>30636.0000</td>\n",
       "    </tr>\n",
       "    <tr>\n",
       "      <th>3</th>\n",
       "      <td>3</td>\n",
       "      <td>3.0</td>\n",
       "      <td>Apple</td>\n",
       "      <td>Ultrabook</td>\n",
       "      <td>15.4</td>\n",
       "      <td>IPS Panel Retina Display 2880x1800</td>\n",
       "      <td>Intel Core i7 2.7GHz</td>\n",
       "      <td>16GB</td>\n",
       "      <td>512GB SSD</td>\n",
       "      <td>AMD Radeon Pro 455</td>\n",
       "      <td>macOS</td>\n",
       "      <td>1.83kg</td>\n",
       "      <td>135195.3360</td>\n",
       "    </tr>\n",
       "    <tr>\n",
       "      <th>4</th>\n",
       "      <td>4</td>\n",
       "      <td>4.0</td>\n",
       "      <td>Apple</td>\n",
       "      <td>Ultrabook</td>\n",
       "      <td>13.3</td>\n",
       "      <td>IPS Panel Retina Display 2560x1600</td>\n",
       "      <td>Intel Core i5 3.1GHz</td>\n",
       "      <td>8GB</td>\n",
       "      <td>256GB SSD</td>\n",
       "      <td>Intel Iris Plus Graphics 650</td>\n",
       "      <td>macOS</td>\n",
       "      <td>1.37kg</td>\n",
       "      <td>96095.8080</td>\n",
       "    </tr>\n",
       "  </tbody>\n",
       "</table>\n",
       "</div>"
      ],
      "text/plain": [
       "   Unnamed: 0.1  Unnamed: 0 Company   TypeName Inches  \\\n",
       "0             0         0.0   Apple  Ultrabook   13.3   \n",
       "1             1         1.0   Apple  Ultrabook   13.3   \n",
       "2             2         2.0      HP   Notebook   15.6   \n",
       "3             3         3.0   Apple  Ultrabook   15.4   \n",
       "4             4         4.0   Apple  Ultrabook   13.3   \n",
       "\n",
       "                     ScreenResolution                         Cpu   Ram  \\\n",
       "0  IPS Panel Retina Display 2560x1600        Intel Core i5 2.3GHz   8GB   \n",
       "1                            1440x900        Intel Core i5 1.8GHz   8GB   \n",
       "2                   Full HD 1920x1080  Intel Core i5 7200U 2.5GHz   8GB   \n",
       "3  IPS Panel Retina Display 2880x1800        Intel Core i7 2.7GHz  16GB   \n",
       "4  IPS Panel Retina Display 2560x1600        Intel Core i5 3.1GHz   8GB   \n",
       "\n",
       "                Memory                           Gpu  OpSys  Weight  \\\n",
       "0            128GB SSD  Intel Iris Plus Graphics 640  macOS  1.37kg   \n",
       "1  128GB Flash Storage        Intel HD Graphics 6000  macOS  1.34kg   \n",
       "2            256GB SSD         Intel HD Graphics 620  No OS  1.86kg   \n",
       "3            512GB SSD            AMD Radeon Pro 455  macOS  1.83kg   \n",
       "4            256GB SSD  Intel Iris Plus Graphics 650  macOS  1.37kg   \n",
       "\n",
       "         Price  \n",
       "0   71378.6832  \n",
       "1   47895.5232  \n",
       "2   30636.0000  \n",
       "3  135195.3360  \n",
       "4   96095.8080  "
      ]
     },
     "execution_count": 7,
     "metadata": {},
     "output_type": "execute_result"
    }
   ],
   "source": [
    "df.head()"
   ]
  },
  {
   "cell_type": "markdown",
   "id": "d322c58f-8ebe-47ac-b35e-1926237cfdc8",
   "metadata": {},
   "source": [
    "### Inspect the Dataset Structure"
   ]
  },
  {
   "cell_type": "code",
   "execution_count": 8,
   "id": "6ae77db1-cd47-43a7-95df-696b7853be43",
   "metadata": {},
   "outputs": [
    {
     "data": {
      "text/plain": [
       "(1303, 13)"
      ]
     },
     "execution_count": 8,
     "metadata": {},
     "output_type": "execute_result"
    }
   ],
   "source": [
    "df.shape"
   ]
  },
  {
   "cell_type": "code",
   "execution_count": 9,
   "id": "186f4cfb-8341-4b6f-9430-fe69fa94f159",
   "metadata": {},
   "outputs": [
    {
     "data": {
      "text/plain": [
       "Index(['Unnamed: 0.1', 'Unnamed: 0', 'Company', 'TypeName', 'Inches',\n",
       "       'ScreenResolution', 'Cpu', 'Ram', 'Memory', 'Gpu', 'OpSys', 'Weight',\n",
       "       'Price'],\n",
       "      dtype='object')"
      ]
     },
     "execution_count": 9,
     "metadata": {},
     "output_type": "execute_result"
    }
   ],
   "source": [
    "df.columns"
   ]
  },
  {
   "cell_type": "code",
   "execution_count": 10,
   "id": "37e71caa-087e-4ade-b749-d7665dc5dccd",
   "metadata": {},
   "outputs": [
    {
     "data": {
      "text/plain": [
       "Unnamed: 0.1          int64\n",
       "Unnamed: 0          float64\n",
       "Company              object\n",
       "TypeName             object\n",
       "Inches               object\n",
       "ScreenResolution     object\n",
       "Cpu                  object\n",
       "Ram                  object\n",
       "Memory               object\n",
       "Gpu                  object\n",
       "OpSys                object\n",
       "Weight               object\n",
       "Price               float64\n",
       "dtype: object"
      ]
     },
     "execution_count": 10,
     "metadata": {},
     "output_type": "execute_result"
    }
   ],
   "source": [
    "df.dtypes"
   ]
  },
  {
   "cell_type": "code",
   "execution_count": 11,
   "id": "31f1432f-4d21-4825-b083-eacb739b9b9d",
   "metadata": {},
   "outputs": [
    {
     "name": "stdout",
     "output_type": "stream",
     "text": [
      "<class 'pandas.core.frame.DataFrame'>\n",
      "RangeIndex: 1303 entries, 0 to 1302\n",
      "Data columns (total 13 columns):\n",
      " #   Column            Non-Null Count  Dtype  \n",
      "---  ------            --------------  -----  \n",
      " 0   Unnamed: 0.1      1303 non-null   int64  \n",
      " 1   Unnamed: 0        1273 non-null   float64\n",
      " 2   Company           1273 non-null   object \n",
      " 3   TypeName          1273 non-null   object \n",
      " 4   Inches            1273 non-null   object \n",
      " 5   ScreenResolution  1273 non-null   object \n",
      " 6   Cpu               1273 non-null   object \n",
      " 7   Ram               1273 non-null   object \n",
      " 8   Memory            1273 non-null   object \n",
      " 9   Gpu               1273 non-null   object \n",
      " 10  OpSys             1273 non-null   object \n",
      " 11  Weight            1273 non-null   object \n",
      " 12  Price             1273 non-null   float64\n",
      "dtypes: float64(2), int64(1), object(10)\n",
      "memory usage: 132.5+ KB\n"
     ]
    }
   ],
   "source": [
    "df.info()"
   ]
  },
  {
   "cell_type": "code",
   "execution_count": 12,
   "id": "133574cd-dc59-4151-a5a0-0ad529beff8e",
   "metadata": {},
   "outputs": [
    {
     "data": {
      "text/html": [
       "<div>\n",
       "<style scoped>\n",
       "    .dataframe tbody tr th:only-of-type {\n",
       "        vertical-align: middle;\n",
       "    }\n",
       "\n",
       "    .dataframe tbody tr th {\n",
       "        vertical-align: top;\n",
       "    }\n",
       "\n",
       "    .dataframe thead th {\n",
       "        text-align: right;\n",
       "    }\n",
       "</style>\n",
       "<table border=\"1\" class=\"dataframe\">\n",
       "  <thead>\n",
       "    <tr style=\"text-align: right;\">\n",
       "      <th></th>\n",
       "      <th>Unnamed: 0.1</th>\n",
       "      <th>Unnamed: 0</th>\n",
       "      <th>Price</th>\n",
       "    </tr>\n",
       "  </thead>\n",
       "  <tbody>\n",
       "    <tr>\n",
       "      <th>count</th>\n",
       "      <td>1303.00000</td>\n",
       "      <td>1273.000000</td>\n",
       "      <td>1273.000000</td>\n",
       "    </tr>\n",
       "    <tr>\n",
       "      <th>mean</th>\n",
       "      <td>651.00000</td>\n",
       "      <td>652.674784</td>\n",
       "      <td>59955.814073</td>\n",
       "    </tr>\n",
       "    <tr>\n",
       "      <th>std</th>\n",
       "      <td>376.28801</td>\n",
       "      <td>376.493027</td>\n",
       "      <td>37332.251005</td>\n",
       "    </tr>\n",
       "    <tr>\n",
       "      <th>min</th>\n",
       "      <td>0.00000</td>\n",
       "      <td>0.000000</td>\n",
       "      <td>9270.720000</td>\n",
       "    </tr>\n",
       "    <tr>\n",
       "      <th>25%</th>\n",
       "      <td>325.50000</td>\n",
       "      <td>327.000000</td>\n",
       "      <td>31914.720000</td>\n",
       "    </tr>\n",
       "    <tr>\n",
       "      <th>50%</th>\n",
       "      <td>651.00000</td>\n",
       "      <td>652.000000</td>\n",
       "      <td>52161.120000</td>\n",
       "    </tr>\n",
       "    <tr>\n",
       "      <th>75%</th>\n",
       "      <td>976.50000</td>\n",
       "      <td>980.000000</td>\n",
       "      <td>79333.387200</td>\n",
       "    </tr>\n",
       "    <tr>\n",
       "      <th>max</th>\n",
       "      <td>1302.00000</td>\n",
       "      <td>1302.000000</td>\n",
       "      <td>324954.720000</td>\n",
       "    </tr>\n",
       "  </tbody>\n",
       "</table>\n",
       "</div>"
      ],
      "text/plain": [
       "       Unnamed: 0.1   Unnamed: 0          Price\n",
       "count    1303.00000  1273.000000    1273.000000\n",
       "mean      651.00000   652.674784   59955.814073\n",
       "std       376.28801   376.493027   37332.251005\n",
       "min         0.00000     0.000000    9270.720000\n",
       "25%       325.50000   327.000000   31914.720000\n",
       "50%       651.00000   652.000000   52161.120000\n",
       "75%       976.50000   980.000000   79333.387200\n",
       "max      1302.00000  1302.000000  324954.720000"
      ]
     },
     "execution_count": 12,
     "metadata": {},
     "output_type": "execute_result"
    }
   ],
   "source": [
    "df.describe()"
   ]
  },
  {
   "cell_type": "code",
   "execution_count": 13,
   "id": "7f129ba8-d1d4-48cb-b281-c4861f7f9686",
   "metadata": {},
   "outputs": [
    {
     "data": {
      "text/plain": [
       "Unnamed: 0.1         0\n",
       "Unnamed: 0          30\n",
       "Company             30\n",
       "TypeName            30\n",
       "Inches              30\n",
       "ScreenResolution    30\n",
       "Cpu                 30\n",
       "Ram                 30\n",
       "Memory              30\n",
       "Gpu                 30\n",
       "OpSys               30\n",
       "Weight              30\n",
       "Price               30\n",
       "dtype: int64"
      ]
     },
     "execution_count": 13,
     "metadata": {},
     "output_type": "execute_result"
    }
   ],
   "source": [
    "df.isna().sum()"
   ]
  },
  {
   "cell_type": "code",
   "execution_count": 14,
   "id": "bdd756f3-455d-4937-82a1-fd7b6aafba97",
   "metadata": {},
   "outputs": [
    {
     "data": {
      "text/plain": [
       "0"
      ]
     },
     "execution_count": 14,
     "metadata": {},
     "output_type": "execute_result"
    }
   ],
   "source": [
    "df.duplicated().sum()"
   ]
  },
  {
   "cell_type": "markdown",
   "id": "66317f92-6b77-4d99-8803-de01c6b19be0",
   "metadata": {},
   "source": [
    "###  Data Cleaning"
   ]
  },
  {
   "cell_type": "code",
   "execution_count": 15,
   "id": "2ef76d23-60af-46e6-bf91-9da42ebf6b1e",
   "metadata": {},
   "outputs": [],
   "source": [
    "df.drop(columns=['Unnamed: 0', 'Unnamed: 0.1'], inplace=True) #Drop unnecessary columns"
   ]
  },
  {
   "cell_type": "code",
   "execution_count": 16,
   "id": "8857740e-d820-4e4d-a2cc-0860373e10ea",
   "metadata": {},
   "outputs": [
    {
     "data": {
      "text/plain": [
       "Index(['Company', 'TypeName', 'Inches', 'ScreenResolution', 'Cpu', 'Ram',\n",
       "       'Memory', 'Gpu', 'OpSys', 'Weight', 'Price'],\n",
       "      dtype='object')"
      ]
     },
     "execution_count": 16,
     "metadata": {},
     "output_type": "execute_result"
    }
   ],
   "source": [
    "df.columns"
   ]
  },
  {
   "cell_type": "code",
   "execution_count": 17,
   "id": "c6c35420-c243-4a62-9150-08e3119a2e08",
   "metadata": {},
   "outputs": [],
   "source": [
    "# Handle missing values"
   ]
  },
  {
   "cell_type": "code",
   "execution_count": 18,
   "id": "2b7f0d54-8f82-4f2e-aa2d-eaa25128f3ca",
   "metadata": {},
   "outputs": [],
   "source": [
    "df.dropna(inplace=True)"
   ]
  },
  {
   "cell_type": "code",
   "execution_count": 19,
   "id": "0945e2a8-91c3-421a-b6c6-4edf47c64142",
   "metadata": {},
   "outputs": [
    {
     "data": {
      "text/plain": [
       "Company             0\n",
       "TypeName            0\n",
       "Inches              0\n",
       "ScreenResolution    0\n",
       "Cpu                 0\n",
       "Ram                 0\n",
       "Memory              0\n",
       "Gpu                 0\n",
       "OpSys               0\n",
       "Weight              0\n",
       "Price               0\n",
       "dtype: int64"
      ]
     },
     "execution_count": 19,
     "metadata": {},
     "output_type": "execute_result"
    }
   ],
   "source": [
    "df.isna().sum()"
   ]
  },
  {
   "cell_type": "code",
   "execution_count": 20,
   "id": "0e092992-b566-4138-b3e3-b6daa6e21d65",
   "metadata": {},
   "outputs": [],
   "source": [
    "# Fix Data Types and Clean Formatting"
   ]
  },
  {
   "cell_type": "code",
   "execution_count": 21,
   "id": "d7e6e632-6e2a-48ce-bd92-ed297ed87de2",
   "metadata": {},
   "outputs": [],
   "source": [
    "# Columns to Clean:\n",
    "# Ram — e.g., '8GB' → convert to integer (just 8)\n",
    "# Weight — e.g., '2.1kg' → convert to float (just 2.1)\n",
    "# Inches — ensure it's in float format "
   ]
  },
  {
   "cell_type": "code",
   "execution_count": 22,
   "id": "691c3d60-1d77-40f0-8be3-e143a7b4ebcf",
   "metadata": {},
   "outputs": [],
   "source": [
    "df['Ram'] = df['Ram'].str.replace('GB','').astype(int)"
   ]
  },
  {
   "cell_type": "code",
   "execution_count": 23,
   "id": "ced1a579-8223-4772-b8b4-c2224e2eadb5",
   "metadata": {},
   "outputs": [
    {
     "data": {
      "text/html": [
       "<div>\n",
       "<style scoped>\n",
       "    .dataframe tbody tr th:only-of-type {\n",
       "        vertical-align: middle;\n",
       "    }\n",
       "\n",
       "    .dataframe tbody tr th {\n",
       "        vertical-align: top;\n",
       "    }\n",
       "\n",
       "    .dataframe thead th {\n",
       "        text-align: right;\n",
       "    }\n",
       "</style>\n",
       "<table border=\"1\" class=\"dataframe\">\n",
       "  <thead>\n",
       "    <tr style=\"text-align: right;\">\n",
       "      <th></th>\n",
       "      <th>Company</th>\n",
       "      <th>TypeName</th>\n",
       "      <th>Inches</th>\n",
       "      <th>ScreenResolution</th>\n",
       "      <th>Cpu</th>\n",
       "      <th>Ram</th>\n",
       "      <th>Memory</th>\n",
       "      <th>Gpu</th>\n",
       "      <th>OpSys</th>\n",
       "      <th>Weight</th>\n",
       "      <th>Price</th>\n",
       "    </tr>\n",
       "  </thead>\n",
       "  <tbody>\n",
       "    <tr>\n",
       "      <th>476</th>\n",
       "      <td>Dell</td>\n",
       "      <td>Workstation</td>\n",
       "      <td>?</td>\n",
       "      <td>Full HD 1920x1080</td>\n",
       "      <td>Intel Core i7 7700HQ 2.8GHz</td>\n",
       "      <td>8</td>\n",
       "      <td>256GB SSD</td>\n",
       "      <td>Nvidia Quadro M1200</td>\n",
       "      <td>Windows 10</td>\n",
       "      <td>1.78kg</td>\n",
       "      <td>128298.24</td>\n",
       "    </tr>\n",
       "  </tbody>\n",
       "</table>\n",
       "</div>"
      ],
      "text/plain": [
       "    Company     TypeName Inches   ScreenResolution  \\\n",
       "476    Dell  Workstation      ?  Full HD 1920x1080   \n",
       "\n",
       "                             Cpu  Ram     Memory                  Gpu  \\\n",
       "476  Intel Core i7 7700HQ 2.8GHz    8  256GB SSD  Nvidia Quadro M1200   \n",
       "\n",
       "          OpSys  Weight      Price  \n",
       "476  Windows 10  1.78kg  128298.24  "
      ]
     },
     "execution_count": 23,
     "metadata": {},
     "output_type": "execute_result"
    }
   ],
   "source": [
    "# Find rows where Weight is '?'\n",
    "df[df['Inches'] == '?']"
   ]
  },
  {
   "cell_type": "code",
   "execution_count": 24,
   "id": "fd38cf4a-2d79-46e9-9e1b-69a8922f0e34",
   "metadata": {},
   "outputs": [
    {
     "data": {
      "text/html": [
       "<div>\n",
       "<style scoped>\n",
       "    .dataframe tbody tr th:only-of-type {\n",
       "        vertical-align: middle;\n",
       "    }\n",
       "\n",
       "    .dataframe tbody tr th {\n",
       "        vertical-align: top;\n",
       "    }\n",
       "\n",
       "    .dataframe thead th {\n",
       "        text-align: right;\n",
       "    }\n",
       "</style>\n",
       "<table border=\"1\" class=\"dataframe\">\n",
       "  <thead>\n",
       "    <tr style=\"text-align: right;\">\n",
       "      <th></th>\n",
       "      <th>Company</th>\n",
       "      <th>TypeName</th>\n",
       "      <th>Inches</th>\n",
       "      <th>ScreenResolution</th>\n",
       "      <th>Cpu</th>\n",
       "      <th>Ram</th>\n",
       "      <th>Memory</th>\n",
       "      <th>Gpu</th>\n",
       "      <th>OpSys</th>\n",
       "      <th>Weight</th>\n",
       "      <th>Price</th>\n",
       "    </tr>\n",
       "  </thead>\n",
       "  <tbody>\n",
       "    <tr>\n",
       "      <th>208</th>\n",
       "      <td>Dell</td>\n",
       "      <td>Ultrabook</td>\n",
       "      <td>13.3</td>\n",
       "      <td>Full HD 1920x1080</td>\n",
       "      <td>Intel Core i7 8550U 1.8GHz</td>\n",
       "      <td>8</td>\n",
       "      <td>256GB SSD</td>\n",
       "      <td>Intel UHD Graphics 620</td>\n",
       "      <td>Windows 10</td>\n",
       "      <td>?</td>\n",
       "      <td>77202.72</td>\n",
       "    </tr>\n",
       "  </tbody>\n",
       "</table>\n",
       "</div>"
      ],
      "text/plain": [
       "    Company   TypeName Inches   ScreenResolution                         Cpu  \\\n",
       "208    Dell  Ultrabook   13.3  Full HD 1920x1080  Intel Core i7 8550U 1.8GHz   \n",
       "\n",
       "     Ram     Memory                     Gpu       OpSys Weight     Price  \n",
       "208    8  256GB SSD  Intel UHD Graphics 620  Windows 10      ?  77202.72  "
      ]
     },
     "execution_count": 24,
     "metadata": {},
     "output_type": "execute_result"
    }
   ],
   "source": [
    "df[df['Weight'] == '?']"
   ]
  },
  {
   "cell_type": "code",
   "execution_count": 25,
   "id": "81816fbe-c10f-45b6-81c6-35f9737edced",
   "metadata": {},
   "outputs": [],
   "source": [
    "# Drop rows with invalid Weight\n",
    "df = df[df['Weight'] != '?']\n",
    "df = df[df['Inches'] != '?']"
   ]
  },
  {
   "cell_type": "code",
   "execution_count": 26,
   "id": "45b8db12-b4c8-4ba1-97ff-c2af793f3cd2",
   "metadata": {},
   "outputs": [
    {
     "data": {
      "text/html": [
       "<div>\n",
       "<style scoped>\n",
       "    .dataframe tbody tr th:only-of-type {\n",
       "        vertical-align: middle;\n",
       "    }\n",
       "\n",
       "    .dataframe tbody tr th {\n",
       "        vertical-align: top;\n",
       "    }\n",
       "\n",
       "    .dataframe thead th {\n",
       "        text-align: right;\n",
       "    }\n",
       "</style>\n",
       "<table border=\"1\" class=\"dataframe\">\n",
       "  <thead>\n",
       "    <tr style=\"text-align: right;\">\n",
       "      <th></th>\n",
       "      <th>Ram</th>\n",
       "      <th>Weight</th>\n",
       "      <th>Inches</th>\n",
       "    </tr>\n",
       "  </thead>\n",
       "  <tbody>\n",
       "    <tr>\n",
       "      <th>0</th>\n",
       "      <td>8</td>\n",
       "      <td>13.3</td>\n",
       "      <td>13.3</td>\n",
       "    </tr>\n",
       "    <tr>\n",
       "      <th>1</th>\n",
       "      <td>8</td>\n",
       "      <td>13.3</td>\n",
       "      <td>13.3</td>\n",
       "    </tr>\n",
       "    <tr>\n",
       "      <th>2</th>\n",
       "      <td>8</td>\n",
       "      <td>15.6</td>\n",
       "      <td>15.6</td>\n",
       "    </tr>\n",
       "    <tr>\n",
       "      <th>3</th>\n",
       "      <td>16</td>\n",
       "      <td>15.4</td>\n",
       "      <td>15.4</td>\n",
       "    </tr>\n",
       "    <tr>\n",
       "      <th>4</th>\n",
       "      <td>8</td>\n",
       "      <td>13.3</td>\n",
       "      <td>13.3</td>\n",
       "    </tr>\n",
       "  </tbody>\n",
       "</table>\n",
       "</div>"
      ],
      "text/plain": [
       "   Ram  Weight  Inches\n",
       "0    8    13.3    13.3\n",
       "1    8    13.3    13.3\n",
       "2    8    15.6    15.6\n",
       "3   16    15.4    15.4\n",
       "4    8    13.3    13.3"
      ]
     },
     "execution_count": 26,
     "metadata": {},
     "output_type": "execute_result"
    }
   ],
   "source": [
    "df['Inches'] = df['Inches'].astype(float)\n",
    "df['Weight'] = df['Inches'].astype(float)\n",
    "# Optional: Check the result\n",
    "df[['Ram', 'Weight', 'Inches']].head()"
   ]
  },
  {
   "cell_type": "markdown",
   "id": "122b126b-cbbc-4c47-82fe-3ebd383e9cef",
   "metadata": {},
   "source": [
    "### Extracting Meaningful Insights from Features"
   ]
  },
  {
   "cell_type": "code",
   "execution_count": 27,
   "id": "d527b719-f57d-40e0-a563-8a59bbbd81bb",
   "metadata": {},
   "outputs": [],
   "source": [
    "# Feature 1: ScreenResolution\n",
    "\n",
    "# From this column, let’s extract:\n",
    "# Touchscreen → binary (1 if touchscreen, 0 if not)\n",
    "# IPS Panel → binary (1 if IPS, 0 if not)\n",
    "# Resolution Width & Height → extract numeric values\n",
    "# PPI (Pixels Per Inch) → derived using width, height, and inches"
   ]
  },
  {
   "cell_type": "code",
   "execution_count": 28,
   "id": "e4eec8bd-d80d-4502-9617-9980f21b87db",
   "metadata": {},
   "outputs": [],
   "source": [
    "df['Touchscreen'] = df['ScreenResolution'].apply(lambda x: 1 if 'Touchscreen' in x else 0)\n",
    "df['IPS Technology'] = df['ScreenResolution'].apply(lambda x: 1 if 'IPS' in x else 0)"
   ]
  },
  {
   "cell_type": "code",
   "execution_count": 29,
   "id": "5f9ce2f8-20a5-49f8-85b5-816a74931fda",
   "metadata": {},
   "outputs": [],
   "source": [
    "resolution_split = df['ScreenResolution'].str.extract(r'(\\d+)x(\\d+)')\n",
    "df['X_res'] = resolution_split[0].astype(int)\n",
    "df['Y_res'] = resolution_split[1].astype(int)"
   ]
  },
  {
   "cell_type": "code",
   "execution_count": 30,
   "id": "e3c98150-e0b2-422b-9544-7384c09ffd9b",
   "metadata": {},
   "outputs": [],
   "source": [
    "# Calculate PPI\n",
    "df['PPI'] = ((df['X_res']**2 + df['Y_res']**2) ** 0.5) / df['Inches']"
   ]
  },
  {
   "cell_type": "code",
   "execution_count": 31,
   "id": "2eb58c4d-33cd-4676-92d6-9ea34185c542",
   "metadata": {},
   "outputs": [],
   "source": [
    "# Feature 2: CPU"
   ]
  },
  {
   "cell_type": "code",
   "execution_count": 32,
   "id": "9f771982-c49d-48b0-9b30-1f28f250e64f",
   "metadata": {},
   "outputs": [
    {
     "data": {
      "text/html": [
       "<div>\n",
       "<style scoped>\n",
       "    .dataframe tbody tr th:only-of-type {\n",
       "        vertical-align: middle;\n",
       "    }\n",
       "\n",
       "    .dataframe tbody tr th {\n",
       "        vertical-align: top;\n",
       "    }\n",
       "\n",
       "    .dataframe thead th {\n",
       "        text-align: right;\n",
       "    }\n",
       "</style>\n",
       "<table border=\"1\" class=\"dataframe\">\n",
       "  <thead>\n",
       "    <tr style=\"text-align: right;\">\n",
       "      <th></th>\n",
       "      <th>Cpu</th>\n",
       "      <th>Cpu_brand</th>\n",
       "    </tr>\n",
       "  </thead>\n",
       "  <tbody>\n",
       "    <tr>\n",
       "      <th>0</th>\n",
       "      <td>Intel Core i5 2.3GHz</td>\n",
       "      <td>Intel Core i5</td>\n",
       "    </tr>\n",
       "    <tr>\n",
       "      <th>1</th>\n",
       "      <td>Intel Core i5 1.8GHz</td>\n",
       "      <td>Intel Core i5</td>\n",
       "    </tr>\n",
       "    <tr>\n",
       "      <th>2</th>\n",
       "      <td>Intel Core i5 7200U 2.5GHz</td>\n",
       "      <td>Intel Core i5</td>\n",
       "    </tr>\n",
       "    <tr>\n",
       "      <th>3</th>\n",
       "      <td>Intel Core i7 2.7GHz</td>\n",
       "      <td>Intel Core i7</td>\n",
       "    </tr>\n",
       "    <tr>\n",
       "      <th>4</th>\n",
       "      <td>Intel Core i5 3.1GHz</td>\n",
       "      <td>Intel Core i5</td>\n",
       "    </tr>\n",
       "  </tbody>\n",
       "</table>\n",
       "</div>"
      ],
      "text/plain": [
       "                          Cpu      Cpu_brand\n",
       "0        Intel Core i5 2.3GHz  Intel Core i5\n",
       "1        Intel Core i5 1.8GHz  Intel Core i5\n",
       "2  Intel Core i5 7200U 2.5GHz  Intel Core i5\n",
       "3        Intel Core i7 2.7GHz  Intel Core i7\n",
       "4        Intel Core i5 3.1GHz  Intel Core i5"
      ]
     },
     "execution_count": 32,
     "metadata": {},
     "output_type": "execute_result"
    }
   ],
   "source": [
    "# Function to simplify CPU types\n",
    "def extract_cpu(text):\n",
    "    text = text.lower()\n",
    "    if 'intel core i3' in text:\n",
    "        return 'Intel Core i3'\n",
    "    elif 'intel core i5' in text:\n",
    "        return 'Intel Core i5'\n",
    "    elif 'intel core i7' in text:\n",
    "        return 'Intel Core i7'\n",
    "    elif 'intel core i9' in text:\n",
    "        return 'Intel Core i9'\n",
    "    elif 'intel celeron' in text:\n",
    "        return 'Intel Celeron'\n",
    "    elif 'intel pentium' in text:\n",
    "        return 'Intel Pentium'\n",
    "    elif 'amd ryzen 5' in text:\n",
    "        return 'AMD Ryzen 5'\n",
    "    elif 'amd ryzen 7' in text:\n",
    "        return 'AMD Ryzen 7'\n",
    "    elif 'amd ryzen 3' in text:\n",
    "        return 'AMD Ryzen 3'\n",
    "    elif 'apple m1' in text or 'apple m2' in text:\n",
    "        return 'Apple Silicon'\n",
    "    else:\n",
    "        return 'Other'\n",
    "\n",
    "# Apply function to Cpu column\n",
    "df['Cpu_brand'] = df['Cpu'].apply(extract_cpu)\n",
    "\n",
    "# Preview result\n",
    "df[['Cpu', 'Cpu_brand']].head()\n"
   ]
  },
  {
   "cell_type": "code",
   "execution_count": 33,
   "id": "b9555a0b-a48c-4262-844c-b2701f748b18",
   "metadata": {},
   "outputs": [],
   "source": [
    "# Feature 3: CPU"
   ]
  },
  {
   "cell_type": "code",
   "execution_count": 34,
   "id": "72b83d94-0459-428d-965a-eb3576cdad6f",
   "metadata": {},
   "outputs": [
    {
     "data": {
      "text/html": [
       "<div>\n",
       "<style scoped>\n",
       "    .dataframe tbody tr th:only-of-type {\n",
       "        vertical-align: middle;\n",
       "    }\n",
       "\n",
       "    .dataframe tbody tr th {\n",
       "        vertical-align: top;\n",
       "    }\n",
       "\n",
       "    .dataframe thead th {\n",
       "        text-align: right;\n",
       "    }\n",
       "</style>\n",
       "<table border=\"1\" class=\"dataframe\">\n",
       "  <thead>\n",
       "    <tr style=\"text-align: right;\">\n",
       "      <th></th>\n",
       "      <th>Memory</th>\n",
       "      <th>SSD</th>\n",
       "      <th>HDD</th>\n",
       "      <th>Flash_Storage</th>\n",
       "      <th>Hybrid</th>\n",
       "    </tr>\n",
       "  </thead>\n",
       "  <tbody>\n",
       "    <tr>\n",
       "      <th>0</th>\n",
       "      <td>128 SSD</td>\n",
       "      <td>128</td>\n",
       "      <td>0</td>\n",
       "      <td>0</td>\n",
       "      <td>0</td>\n",
       "    </tr>\n",
       "    <tr>\n",
       "      <th>1</th>\n",
       "      <td>128 Flash Storage</td>\n",
       "      <td>0</td>\n",
       "      <td>0</td>\n",
       "      <td>128</td>\n",
       "      <td>0</td>\n",
       "    </tr>\n",
       "    <tr>\n",
       "      <th>2</th>\n",
       "      <td>256 SSD</td>\n",
       "      <td>256</td>\n",
       "      <td>0</td>\n",
       "      <td>0</td>\n",
       "      <td>0</td>\n",
       "    </tr>\n",
       "    <tr>\n",
       "      <th>3</th>\n",
       "      <td>512 SSD</td>\n",
       "      <td>512</td>\n",
       "      <td>0</td>\n",
       "      <td>0</td>\n",
       "      <td>0</td>\n",
       "    </tr>\n",
       "    <tr>\n",
       "      <th>4</th>\n",
       "      <td>256 SSD</td>\n",
       "      <td>256</td>\n",
       "      <td>0</td>\n",
       "      <td>0</td>\n",
       "      <td>0</td>\n",
       "    </tr>\n",
       "  </tbody>\n",
       "</table>\n",
       "</div>"
      ],
      "text/plain": [
       "              Memory  SSD  HDD  Flash_Storage  Hybrid\n",
       "0            128 SSD  128    0              0       0\n",
       "1  128 Flash Storage    0    0            128       0\n",
       "2            256 SSD  256    0              0       0\n",
       "3            512 SSD  512    0              0       0\n",
       "4            256 SSD  256    0              0       0"
      ]
     },
     "execution_count": 34,
     "metadata": {},
     "output_type": "execute_result"
    }
   ],
   "source": [
    "import re\n",
    "\n",
    "# Clean up and standardize the Memory column\n",
    "df['Memory'] = df['Memory'].str.replace(r'\\s+', ' ')  # Remove extra spaces\n",
    "df['Memory'] = df['Memory'].str.replace('GB', '').str.replace('TB', '000')\n",
    "\n",
    "# Split the memory column into multiple components\n",
    "def parse_memory(mem_string):\n",
    "    mem_string = mem_string.upper()\n",
    "    ssd = hdd = flash = hybrid = 0\n",
    "    parts = mem_string.split('+')\n",
    "    \n",
    "    for part in parts:\n",
    "        part = part.strip()\n",
    "        if 'SSD' in part:\n",
    "            ssd += int(re.findall(r'\\d+', part)[0])\n",
    "        elif 'HDD' in part:\n",
    "            hdd += int(re.findall(r'\\d+', part)[0])\n",
    "        elif 'FLASH' in part or 'EMMC' in part:\n",
    "            flash += int(re.findall(r'\\d+', part)[0])\n",
    "        elif 'HYBRID' in part:\n",
    "            hybrid += int(re.findall(r'\\d+', part)[0])\n",
    "    \n",
    "    return pd.Series([ssd, hdd, flash, hybrid])\n",
    "\n",
    "# Apply the function and create new columns\n",
    "df[['SSD', 'HDD', 'Flash_Storage', 'Hybrid']] = df['Memory'].apply(parse_memory)\n",
    "\n",
    "# Preview result\n",
    "df[['Memory', 'SSD', 'HDD', 'Flash_Storage', 'Hybrid']].head()\n"
   ]
  },
  {
   "cell_type": "code",
   "execution_count": 35,
   "id": "98126038-b075-4c7d-977b-95eb929445f6",
   "metadata": {},
   "outputs": [],
   "source": [
    "# Feature 3: GPU"
   ]
  },
  {
   "cell_type": "code",
   "execution_count": 36,
   "id": "4733c1b8-0206-4f82-8e9a-392c19df0022",
   "metadata": {},
   "outputs": [
    {
     "data": {
      "text/html": [
       "<div>\n",
       "<style scoped>\n",
       "    .dataframe tbody tr th:only-of-type {\n",
       "        vertical-align: middle;\n",
       "    }\n",
       "\n",
       "    .dataframe tbody tr th {\n",
       "        vertical-align: top;\n",
       "    }\n",
       "\n",
       "    .dataframe thead th {\n",
       "        text-align: right;\n",
       "    }\n",
       "</style>\n",
       "<table border=\"1\" class=\"dataframe\">\n",
       "  <thead>\n",
       "    <tr style=\"text-align: right;\">\n",
       "      <th></th>\n",
       "      <th>Gpu</th>\n",
       "      <th>Gpu_brand</th>\n",
       "    </tr>\n",
       "  </thead>\n",
       "  <tbody>\n",
       "    <tr>\n",
       "      <th>0</th>\n",
       "      <td>Intel Iris Plus Graphics 640</td>\n",
       "      <td>Intel</td>\n",
       "    </tr>\n",
       "    <tr>\n",
       "      <th>1</th>\n",
       "      <td>Intel HD Graphics 6000</td>\n",
       "      <td>Intel</td>\n",
       "    </tr>\n",
       "    <tr>\n",
       "      <th>2</th>\n",
       "      <td>Intel HD Graphics 620</td>\n",
       "      <td>Intel</td>\n",
       "    </tr>\n",
       "    <tr>\n",
       "      <th>3</th>\n",
       "      <td>AMD Radeon Pro 455</td>\n",
       "      <td>AMD</td>\n",
       "    </tr>\n",
       "    <tr>\n",
       "      <th>4</th>\n",
       "      <td>Intel Iris Plus Graphics 650</td>\n",
       "      <td>Intel</td>\n",
       "    </tr>\n",
       "  </tbody>\n",
       "</table>\n",
       "</div>"
      ],
      "text/plain": [
       "                            Gpu Gpu_brand\n",
       "0  Intel Iris Plus Graphics 640     Intel\n",
       "1        Intel HD Graphics 6000     Intel\n",
       "2         Intel HD Graphics 620     Intel\n",
       "3            AMD Radeon Pro 455       AMD\n",
       "4  Intel Iris Plus Graphics 650     Intel"
      ]
     },
     "execution_count": 36,
     "metadata": {},
     "output_type": "execute_result"
    }
   ],
   "source": [
    "# Function to extract GPU brand\n",
    "def extract_gpu_brand(gpu):\n",
    "    gpu = gpu.lower()\n",
    "    if 'nvidia' in gpu:\n",
    "        return 'Nvidia'\n",
    "    elif 'amd' in gpu:\n",
    "        return 'AMD'\n",
    "    elif 'intel' in gpu:\n",
    "        return 'Intel'\n",
    "    else:\n",
    "        return 'Other'\n",
    "\n",
    "# Apply the function\n",
    "df['Gpu_brand'] = df['Gpu'].apply(extract_gpu_brand)\n",
    "\n",
    "# Preview result\n",
    "df[['Gpu', 'Gpu_brand']].head()\n"
   ]
  },
  {
   "cell_type": "code",
   "execution_count": 37,
   "id": "75e20296-159a-4823-9f44-fa8543c7a3c6",
   "metadata": {},
   "outputs": [
    {
     "data": {
      "text/html": [
       "<div>\n",
       "<style scoped>\n",
       "    .dataframe tbody tr th:only-of-type {\n",
       "        vertical-align: middle;\n",
       "    }\n",
       "\n",
       "    .dataframe tbody tr th {\n",
       "        vertical-align: top;\n",
       "    }\n",
       "\n",
       "    .dataframe thead th {\n",
       "        text-align: right;\n",
       "    }\n",
       "</style>\n",
       "<table border=\"1\" class=\"dataframe\">\n",
       "  <thead>\n",
       "    <tr style=\"text-align: right;\">\n",
       "      <th></th>\n",
       "      <th>OpSys</th>\n",
       "      <th>OS_Category</th>\n",
       "    </tr>\n",
       "  </thead>\n",
       "  <tbody>\n",
       "    <tr>\n",
       "      <th>0</th>\n",
       "      <td>macOS</td>\n",
       "      <td>Mac</td>\n",
       "    </tr>\n",
       "    <tr>\n",
       "      <th>1</th>\n",
       "      <td>macOS</td>\n",
       "      <td>Mac</td>\n",
       "    </tr>\n",
       "    <tr>\n",
       "      <th>2</th>\n",
       "      <td>No OS</td>\n",
       "      <td>No OS</td>\n",
       "    </tr>\n",
       "    <tr>\n",
       "      <th>3</th>\n",
       "      <td>macOS</td>\n",
       "      <td>Mac</td>\n",
       "    </tr>\n",
       "    <tr>\n",
       "      <th>4</th>\n",
       "      <td>macOS</td>\n",
       "      <td>Mac</td>\n",
       "    </tr>\n",
       "  </tbody>\n",
       "</table>\n",
       "</div>"
      ],
      "text/plain": [
       "   OpSys OS_Category\n",
       "0  macOS         Mac\n",
       "1  macOS         Mac\n",
       "2  No OS       No OS\n",
       "3  macOS         Mac\n",
       "4  macOS         Mac"
      ]
     },
     "execution_count": 37,
     "metadata": {},
     "output_type": "execute_result"
    }
   ],
   "source": [
    "# Function to group OS types\n",
    "def categorize_os(os):\n",
    "    os = os.lower()\n",
    "    if 'windows' in os:\n",
    "        return 'Windows'\n",
    "    elif 'mac' in os or 'macos' in os:\n",
    "        return 'Mac'\n",
    "    elif 'linux' in os:\n",
    "        return 'Linux'\n",
    "    elif 'chrome' in os:\n",
    "        return 'Chrome OS'\n",
    "    elif 'no os' in os:\n",
    "        return 'No OS'\n",
    "    else:\n",
    "        return 'Other'\n",
    "\n",
    "# Apply the function\n",
    "df['OS_Category'] = df['OpSys'].apply(categorize_os)\n",
    "\n",
    "# Preview result\n",
    "df[['OpSys', 'OS_Category']].head()\n"
   ]
  },
  {
   "cell_type": "code",
   "execution_count": 38,
   "id": "15cc396f-26e5-4856-ad4c-bf8af29bb054",
   "metadata": {},
   "outputs": [],
   "source": [
    "cleaned_df = df.drop(columns=['ScreenResolution', 'Cpu', 'Memory', 'Gpu', 'OpSys'])\n"
   ]
  },
  {
   "cell_type": "code",
   "execution_count": 39,
   "id": "8c7c1976-d6cc-448e-9716-c4f1c8969fcc",
   "metadata": {},
   "outputs": [
    {
     "data": {
      "text/html": [
       "<div>\n",
       "<style scoped>\n",
       "    .dataframe tbody tr th:only-of-type {\n",
       "        vertical-align: middle;\n",
       "    }\n",
       "\n",
       "    .dataframe tbody tr th {\n",
       "        vertical-align: top;\n",
       "    }\n",
       "\n",
       "    .dataframe thead th {\n",
       "        text-align: right;\n",
       "    }\n",
       "</style>\n",
       "<table border=\"1\" class=\"dataframe\">\n",
       "  <thead>\n",
       "    <tr style=\"text-align: right;\">\n",
       "      <th></th>\n",
       "      <th>Company</th>\n",
       "      <th>TypeName</th>\n",
       "      <th>Inches</th>\n",
       "      <th>Ram</th>\n",
       "      <th>Weight</th>\n",
       "      <th>Price</th>\n",
       "      <th>Touchscreen</th>\n",
       "      <th>IPS Technology</th>\n",
       "      <th>X_res</th>\n",
       "      <th>Y_res</th>\n",
       "      <th>PPI</th>\n",
       "      <th>Cpu_brand</th>\n",
       "      <th>SSD</th>\n",
       "      <th>HDD</th>\n",
       "      <th>Flash_Storage</th>\n",
       "      <th>Hybrid</th>\n",
       "      <th>Gpu_brand</th>\n",
       "      <th>OS_Category</th>\n",
       "    </tr>\n",
       "  </thead>\n",
       "  <tbody>\n",
       "    <tr>\n",
       "      <th>860</th>\n",
       "      <td>Lenovo</td>\n",
       "      <td>Notebook</td>\n",
       "      <td>15.6</td>\n",
       "      <td>8</td>\n",
       "      <td>15.6</td>\n",
       "      <td>45323.1648</td>\n",
       "      <td>0</td>\n",
       "      <td>1</td>\n",
       "      <td>1920</td>\n",
       "      <td>1080</td>\n",
       "      <td>141.211998</td>\n",
       "      <td>Intel Core i5</td>\n",
       "      <td>0</td>\n",
       "      <td>1000</td>\n",
       "      <td>0</td>\n",
       "      <td>0</td>\n",
       "      <td>Intel</td>\n",
       "      <td>Windows</td>\n",
       "    </tr>\n",
       "  </tbody>\n",
       "</table>\n",
       "</div>"
      ],
      "text/plain": [
       "    Company  TypeName  Inches  Ram  Weight       Price  Touchscreen  \\\n",
       "860  Lenovo  Notebook    15.6    8    15.6  45323.1648            0   \n",
       "\n",
       "     IPS Technology  X_res  Y_res         PPI      Cpu_brand  SSD   HDD  \\\n",
       "860               1   1920   1080  141.211998  Intel Core i5    0  1000   \n",
       "\n",
       "     Flash_Storage  Hybrid Gpu_brand OS_Category  \n",
       "860              0       0     Intel     Windows  "
      ]
     },
     "execution_count": 39,
     "metadata": {},
     "output_type": "execute_result"
    }
   ],
   "source": [
    "cleaned_df.sample()"
   ]
  },
  {
   "cell_type": "markdown",
   "id": "74027c73-8378-4ca5-9856-e977fa2378d6",
   "metadata": {},
   "source": [
    "## Visualizing Features Info"
   ]
  },
  {
   "cell_type": "code",
   "execution_count": 40,
   "id": "72b2518a-6b0a-4a01-959b-d8b6be7ea971",
   "metadata": {},
   "outputs": [
    {
     "data": {
      "text/plain": [
       "<Axes: xlabel='count', ylabel='Company'>"
      ]
     },
     "execution_count": 40,
     "metadata": {},
     "output_type": "execute_result"
    },
    {
     "data": {
      "image/png": "[encoded data removed]",
      "text/plain": [
       "<Figure size 640x480 with 1 Axes>"
      ]
     },
     "metadata": {},
     "output_type": "display_data"
    }
   ],
   "source": [
    "sns.countplot(cleaned_df,y='Company')"
   ]
  },
  {
   "cell_type": "code",
   "execution_count": 41,
   "id": "963063c6-023b-4b5a-b3db-5353b9cd9e08",
   "metadata": {},
   "outputs": [
    {
     "data": {
      "text/plain": [
       "<Axes: xlabel='count', ylabel='OS_Category'>"
      ]
     },
     "execution_count": 41,
     "metadata": {},
     "output_type": "execute_result"
    },
    {
     "data": {
      "image/png": "[encoded data removed]",
      "text/plain": [
       "<Figure size 640x480 with 1 Axes>"
      ]
     },
     "metadata": {},
     "output_type": "display_data"
    }
   ],
   "source": [
    "sns.countplot(cleaned_df,y='OS_Category')"
   ]
  },
  {
   "cell_type": "code",
   "execution_count": 42,
   "id": "9ad52973-aca6-4519-a3ed-9336cbbc9f61",
   "metadata": {},
   "outputs": [
    {
     "data": {
      "text/plain": [
       "<Axes: title={'center': 'Scatter plot of Price'}, ylabel='Price'>"
      ]
     },
     "execution_count": 42,
     "metadata": {},
     "output_type": "execute_result"
    },
    {
     "data": {
      "image/png": "[encoded data removed]",
      "text/plain": [
       "<Figure size 640x480 with 1 Axes>"
      ]
     },
     "metadata": {},
     "output_type": "display_data"
    }
   ],
   "source": [
    "plt.title('Scatter plot of Price')\n",
    "sns.scatterplot(cleaned_df['Price'])"
   ]
  },
  {
   "cell_type": "markdown",
   "id": "ff7394b3-a435-42af-a783-de08bafd6190",
   "metadata": {},
   "source": [
    "plt.title('Distribution of Price')\n",
    "sns.histplot(cleaned_df['Price'])"
   ]
  },
  {
   "cell_type": "code",
   "execution_count": 43,
   "id": "36aee181-0bf3-4fff-a63a-10841dc6df42",
   "metadata": {},
   "outputs": [
    {
     "data": {
      "text/plain": [
       "<Axes: title={'center': 'Checking Outliers in Price'}, ylabel='Price'>"
      ]
     },
     "execution_count": 43,
     "metadata": {},
     "output_type": "execute_result"
    },
    {
     "data": {
      "image/png": "[encoded data removed]",
      "text/plain": [
       "<Figure size 640x480 with 1 Axes>"
      ]
     },
     "metadata": {},
     "output_type": "display_data"
    }
   ],
   "source": [
    "plt.title('Checking Outliers in Price')\n",
    "sns.boxplot(cleaned_df['Price'])"
   ]
  },
  {
   "cell_type": "code",
   "execution_count": 44,
   "id": "2662c72c-6eb9-41c6-aa99-af243d899919",
   "metadata": {},
   "outputs": [],
   "source": [
    "cor = cleaned_df.select_dtypes(include='number').corr()"
   ]
  },
  {
   "cell_type": "code",
   "execution_count": 45,
   "id": "4c0a3b13-9021-44cb-a0aa-cadf21418efb",
   "metadata": {},
   "outputs": [
    {
     "data": {
      "text/plain": [
       "<Axes: >"
      ]
     },
     "execution_count": 45,
     "metadata": {},
     "output_type": "execute_result"
    },
    {
     "data": {
      "image/png": "[encoded data removed]",
      "text/plain": [
       "<Figure size 1200x600 with 2 Axes>"
      ]
     },
     "metadata": {},
     "output_type": "display_data"
    }
   ],
   "source": [
    "plt.figure(figsize=(12,6))\n",
    "sns.heatmap(cor,annot=True,fmt='.2f',cmap='coolwarm')"
   ]
  },
  {
   "cell_type": "markdown",
   "id": "5105b5e0-c167-40eb-b42d-683fc4d888f4",
   "metadata": {},
   "source": [
    "## Preprocessing"
   ]
  },
  {
   "cell_type": "code",
   "execution_count": 46,
   "id": "efa9325a-642e-4ac4-93da-d93d45f34e29",
   "metadata": {},
   "outputs": [],
   "source": [
    "# Outliers Detection using IQR method\n",
    "q1 = cleaned_df['Price'].quantile(0.25)\n",
    "q3 = cleaned_df['Price'].quantile(0.75)\n",
    "\n",
    "IQR = q3 - q1\n",
    "\n",
    "lower_bound = q1 - IQR*1.5\n",
    "upper_bound = q3 + IQR*1.5\n",
    "\n",
    "outliers = cleaned_df[(cleaned_df['Price'] < lower_bound) | (cleaned_df['Price'] > upper_bound)]"
   ]
  },
  {
   "cell_type": "code",
   "execution_count": 47,
   "id": "e358c888-0639-4c09-9243-cd94dfaa41ea",
   "metadata": {},
   "outputs": [],
   "source": [
    "#Removing Outliers\n",
    "data=cleaned_df[(cleaned_df['Price'] >= lower_bound) & (cleaned_df['Price'] <= upper_bound)]"
   ]
  },
  {
   "cell_type": "code",
   "execution_count": 48,
   "id": "b8975644-c537-4475-a79a-9442f936b8df",
   "metadata": {},
   "outputs": [
    {
     "data": {
      "text/plain": [
       "(1243, 18)"
      ]
     },
     "execution_count": 48,
     "metadata": {},
     "output_type": "execute_result"
    }
   ],
   "source": [
    "data.shape"
   ]
  },
  {
   "cell_type": "markdown",
   "id": "7b1e22cb-ba31-453c-9ea7-54e31557a0f2",
   "metadata": {},
   "source": [
    "### Encode Categorical Features"
   ]
  },
  {
   "cell_type": "code",
   "execution_count": 49,
   "id": "b685063e-31b3-4f82-a16c-3c729fd4aea5",
   "metadata": {},
   "outputs": [],
   "source": [
    "# Categorical columns to encode:\n",
    "# Company\n",
    "# TypeName\n",
    "# Cpu_brand\n",
    "# Gpu_brand\n",
    "# OS_Category"
   ]
  },
  {
   "cell_type": "code",
   "execution_count": 50,
   "id": "c0bf6daf-daf9-4ec9-91ea-edccb7751d2b",
   "metadata": {},
   "outputs": [],
   "source": [
    "from sklearn.preprocessing import StandardScaler,OneHotEncoder"
   ]
  },
  {
   "cell_type": "code",
   "execution_count": 51,
   "id": "78b3c512-c654-4ba9-904e-8d955218f1f0",
   "metadata": {},
   "outputs": [],
   "source": [
    "from sklearn.compose import ColumnTransformer"
   ]
  },
  {
   "cell_type": "code",
   "execution_count": 52,
   "id": "bc6e6973-d1ec-4a7b-95fd-a10ccdad673a",
   "metadata": {},
   "outputs": [],
   "source": [
    "features = ['Company','TypeName','Cpu_brand','Gpu_brand','OS_Category','Inches', 'Ram', 'Weight', 'Touchscreen', 'IPS Technology',\n",
    "       'X_res', 'Y_res', 'PPI', 'SSD', 'HDD', 'Flash_Storage', 'Hybrid']"
   ]
  },
  {
   "cell_type": "code",
   "execution_count": 53,
   "id": "b2d960d9-3683-4693-bb5c-3c241e086916",
   "metadata": {},
   "outputs": [],
   "source": [
    "cat_features = ['Company','TypeName','Cpu_brand','Gpu_brand','OS_Category'] #categorical columns"
   ]
  },
  {
   "cell_type": "code",
   "execution_count": 54,
   "id": "7f1f3573-f18d-434a-b19a-68992d510847",
   "metadata": {},
   "outputs": [],
   "source": [
    "num_features = ['Inches', 'Ram', 'Weight', 'Touchscreen', 'IPS Technology',\n",
    "       'X_res', 'Y_res', 'PPI', 'SSD', 'HDD', 'Flash_Storage', 'Hybrid'] #numeric columns"
   ]
  },
  {
   "cell_type": "code",
   "execution_count": 55,
   "id": "d052d403-a7d1-42e6-8d92-0e32ae736966",
   "metadata": {},
   "outputs": [],
   "source": [
    "#BUild a column Transformer\n",
    "\n",
    "preprocessor = ColumnTransformer([\n",
    "    ('num', StandardScaler(), num_features),\n",
    "    ('cat', OneHotEncoder(drop='first',handle_unknown='ignore'), cat_features)\n",
    "])"
   ]
  },
  {
   "cell_type": "code",
   "execution_count": 56,
   "id": "f66fbfaa-47b4-4a9f-9795-1179bbd85d50",
   "metadata": {},
   "outputs": [],
   "source": [
    "X = data[features]"
   ]
  },
  {
   "cell_type": "code",
   "execution_count": 57,
   "id": "b152a588-e663-4464-9e73-9d6930db14f8",
   "metadata": {},
   "outputs": [],
   "source": [
    "y = data['Price'] #Target Variable"
   ]
  },
  {
   "cell_type": "markdown",
   "id": "be880474-a04b-4c19-8cc8-323d03a184b5",
   "metadata": {},
   "source": [
    "### Train-Test Split"
   ]
  },
  {
   "cell_type": "code",
   "execution_count": 58,
   "id": "08fe1702-9f89-490a-ba0d-5b55f5b73a19",
   "metadata": {},
   "outputs": [],
   "source": [
    "from sklearn.model_selection import train_test_split"
   ]
  },
  {
   "cell_type": "code",
   "execution_count": 59,
   "id": "b436e08e-84f5-487a-a038-622fe25318fd",
   "metadata": {},
   "outputs": [],
   "source": [
    "# Typical split: 80% training, 20% testing\n",
    "X_train, X_test, y_train, y_test = train_test_split(X, y, test_size=0.2, random_state=42)\n"
   ]
  },
  {
   "cell_type": "markdown",
   "id": "db2abb56-dea7-45f2-b861-bb8bb1b4471e",
   "metadata": {},
   "source": [
    "### Regression Model Development"
   ]
  },
  {
   "cell_type": "code",
   "execution_count": 60,
   "id": "4d488550-ce0c-4577-8dad-ab6e90cd93a4",
   "metadata": {},
   "outputs": [],
   "source": [
    "from sklearn.linear_model import LinearRegression\n",
    "from sklearn.svm import SVR\n",
    "from sklearn.tree import DecisionTreeRegressor\n",
    "from sklearn.ensemble import RandomForestRegressor,GradientBoostingRegressor"
   ]
  },
  {
   "cell_type": "code",
   "execution_count": 61,
   "id": "5b17dea4-22d9-4bcd-9244-5de564cb2fb2",
   "metadata": {},
   "outputs": [],
   "source": [
    "models = {\n",
    "    'Linear Regression' : LinearRegression(),\n",
    "    'SVR' : SVR(),\n",
    "    'DescisionTree Regressor' : DecisionTreeRegressor(),\n",
    "    'Random Forest Regressor' :RandomForestRegressor(n_estimators=200, random_state=42),\n",
    "    'Gradient Boosting Regressor':GradientBoostingRegressor()\n",
    "}"
   ]
  },
  {
   "cell_type": "code",
   "execution_count": 62,
   "id": "e3499dd9-82c3-4065-b677-57850c0a927e",
   "metadata": {},
   "outputs": [],
   "source": [
    "from sklearn.pipeline import Pipeline"
   ]
  },
  {
   "cell_type": "code",
   "execution_count": 63,
   "id": "d4db98e2-4fd2-41c1-909e-1a6e08730d22",
   "metadata": {},
   "outputs": [],
   "source": [
    "from sklearn.metrics import mean_absolute_error,mean_squared_error,r2_score"
   ]
  },
  {
   "cell_type": "code",
   "execution_count": 64,
   "id": "1c5c1f3c-628e-4d97-9f94-10a727d02c9e",
   "metadata": {},
   "outputs": [],
   "source": [
    "results=[]\n",
    "\n",
    "for name,model in models.items():\n",
    "    pipe=Pipeline([\n",
    "        ('preprocessor',preprocessor),\n",
    "        ('regression',model)\n",
    "    ])\n",
    "\n",
    "    pipe.fit(X_train,y_train)\n",
    "    y_pred = pipe.predict(X_test)\n",
    "\n",
    "    r2 = r2_score(y_test, y_pred)\n",
    "    mae = mean_absolute_error(y_test, y_pred)\n",
    "    rmse = np.sqrt(mean_squared_error(y_test, y_pred))\n",
    "    results.append((name,mae,rmse,r2))"
   ]
  },
  {
   "cell_type": "markdown",
   "id": "af672182-e476-4b65-95e5-e9a93e2f8b49",
   "metadata": {},
   "source": [
    "#### Evaluate and choose the model that aligns best with the project's objectives."
   ]
  },
  {
   "cell_type": "code",
   "execution_count": 65,
   "id": "9b567eb4-bd45-407f-8948-e056f90da7ac",
   "metadata": {},
   "outputs": [
    {
     "data": {
      "text/html": [
       "<div>\n",
       "<style scoped>\n",
       "    .dataframe tbody tr th:only-of-type {\n",
       "        vertical-align: middle;\n",
       "    }\n",
       "\n",
       "    .dataframe tbody tr th {\n",
       "        vertical-align: top;\n",
       "    }\n",
       "\n",
       "    .dataframe thead th {\n",
       "        text-align: right;\n",
       "    }\n",
       "</style>\n",
       "<table border=\"1\" class=\"dataframe\">\n",
       "  <thead>\n",
       "    <tr style=\"text-align: right;\">\n",
       "      <th></th>\n",
       "      <th>Model</th>\n",
       "      <th>MAE</th>\n",
       "      <th>RMSE</th>\n",
       "      <th>R2_SCORE</th>\n",
       "    </tr>\n",
       "  </thead>\n",
       "  <tbody>\n",
       "    <tr>\n",
       "      <th>4</th>\n",
       "      <td>Gradient Boosting Regressor</td>\n",
       "      <td>10527.921970</td>\n",
       "      <td>14821.718599</td>\n",
       "      <td>0.798497</td>\n",
       "    </tr>\n",
       "    <tr>\n",
       "      <th>3</th>\n",
       "      <td>Random Forest Regressor</td>\n",
       "      <td>10394.064558</td>\n",
       "      <td>15265.882607</td>\n",
       "      <td>0.786239</td>\n",
       "    </tr>\n",
       "    <tr>\n",
       "      <th>0</th>\n",
       "      <td>Linear Regression</td>\n",
       "      <td>11629.305726</td>\n",
       "      <td>15936.929237</td>\n",
       "      <td>0.767034</td>\n",
       "    </tr>\n",
       "    <tr>\n",
       "      <th>2</th>\n",
       "      <td>DescisionTree Regressor</td>\n",
       "      <td>12005.498433</td>\n",
       "      <td>19071.801461</td>\n",
       "      <td>0.666368</td>\n",
       "    </tr>\n",
       "    <tr>\n",
       "      <th>1</th>\n",
       "      <td>SVR</td>\n",
       "      <td>25665.141795</td>\n",
       "      <td>33358.422148</td>\n",
       "      <td>-0.020692</td>\n",
       "    </tr>\n",
       "  </tbody>\n",
       "</table>\n",
       "</div>"
      ],
      "text/plain": [
       "                         Model           MAE          RMSE  R2_SCORE\n",
       "4  Gradient Boosting Regressor  10527.921970  14821.718599  0.798497\n",
       "3      Random Forest Regressor  10394.064558  15265.882607  0.786239\n",
       "0            Linear Regression  11629.305726  15936.929237  0.767034\n",
       "2      DescisionTree Regressor  12005.498433  19071.801461  0.666368\n",
       "1                          SVR  25665.141795  33358.422148 -0.020692"
      ]
     },
     "execution_count": 65,
     "metadata": {},
     "output_type": "execute_result"
    }
   ],
   "source": [
    "# Show results\n",
    "results_df = pd.DataFrame(results, columns=[\"Model\", \"MAE\",\"RMSE\",\"R2_SCORE\"])\n",
    "results_df.sort_values(by=\"R2_SCORE\", ascending=False)"
   ]
  },
  {
   "cell_type": "markdown",
   "id": "fefe6d90-775d-4b3b-a31a-be5437076937",
   "metadata": {},
   "source": [
    "### Hyperparameter Tuning:"
   ]
  },
  {
   "cell_type": "code",
   "execution_count": 66,
   "id": "cb3bb013-0bc9-47d2-8609-09444e8123f3",
   "metadata": {},
   "outputs": [],
   "source": [
    "#Since Gradient Boosting Regressor performed best, \n",
    "#we'll tune it using GridSearchCV to find the optimal parameters."
   ]
  },
  {
   "cell_type": "code",
   "execution_count": 67,
   "id": "8e84212c-6892-4af6-bc22-8e2ea234a7fa",
   "metadata": {},
   "outputs": [
    {
     "name": "stdout",
     "output_type": "stream",
     "text": [
      "Fitting 5 folds for each of 18 candidates, totalling 90 fits\n",
      "Best R2 Score:  0.8080742589496059\n",
      "Best Parameters:  {'regression__learning_rate': 0.2, 'regression__max_depth': 3, 'regression__n_estimators': 200}\n"
     ]
    }
   ],
   "source": [
    "from sklearn.model_selection import GridSearchCV\n",
    "from sklearn.ensemble import GradientBoostingRegressor\n",
    "from sklearn.pipeline import Pipeline\n",
    "\n",
    "# Define pipeline again with Gradient Boosting\n",
    "pipe = Pipeline([\n",
    "    ('preprocessor', preprocessor),\n",
    "    ('regression', GradientBoostingRegressor(random_state=42))\n",
    "])\n",
    "\n",
    "# Parameter grid for Gradient Boosting\n",
    "param_grid = {\n",
    "    'regression__n_estimators': [100, 200],\n",
    "    'regression__learning_rate': [0.05, 0.1, 0.2],\n",
    "    'regression__max_depth': [3, 5, 7]\n",
    "}\n",
    "\n",
    "# Setup GridSearchCV\n",
    "grid_search = GridSearchCV(\n",
    "    estimator=pipe,\n",
    "    param_grid=param_grid,\n",
    "    cv=5,\n",
    "    scoring='r2',\n",
    "    n_jobs=-1,\n",
    "    verbose=2\n",
    ")\n",
    "\n",
    "# Fit on training data\n",
    "grid_search.fit(X_train, y_train)\n",
    "\n",
    "# Best score and best parameters\n",
    "print(\"Best R2 Score: \", grid_search.best_score_)\n",
    "print(\"Best Parameters: \", grid_search.best_params_)"
   ]
  },
  {
   "cell_type": "code",
   "execution_count": 68,
   "id": "0e9d2e33-784b-4767-b27e-d717cd2e0dbf",
   "metadata": {},
   "outputs": [
    {
     "name": "stdout",
     "output_type": "stream",
     "text": [
      "MAE:  9952.463552734658\n",
      "RMSE:  13957.65198865602\n",
      "R² Score:  0.8213066528349009\n"
     ]
    }
   ],
   "source": [
    "# Extract the best estimator\n",
    "best_model = grid_search.best_estimator_\n",
    "\n",
    "# Predict on test data\n",
    "y_pred = best_model.predict(X_test)\n",
    "\n",
    "# Evaluate performance\n",
    "mae = mean_absolute_error(y_test, y_pred)\n",
    "rmse = np.sqrt(mean_squared_error(y_test, y_pred))\n",
    "r2 = r2_score(y_test, y_pred)\n",
    "\n",
    "print(\"MAE: \", mae)\n",
    "print(\"RMSE: \", rmse)\n",
    "print(\"R² Score: \", r2)"
   ]
  },
  {
   "cell_type": "markdown",
   "id": "11f47686-3f61-4ed1-b42f-21420c33e0f1",
   "metadata": {},
   "source": [
    "### Model Interpretation — Feature Importances"
   ]
  },
  {
   "cell_type": "code",
   "execution_count": 69,
   "id": "10739576-6cc2-48fc-b821-4b6fdce92139",
   "metadata": {},
   "outputs": [],
   "source": [
    "# This helps you (and SmartTech Co.) understand which features most influence laptop prices,\n",
    "# fulfilling the “interpretability” goal from your project brief."
   ]
  },
  {
   "cell_type": "markdown",
   "id": "506cb675-60d4-4801-93df-282aff05a254",
   "metadata": {},
   "source": [
    "#### Get & Plot Feature Importances"
   ]
  },
  {
   "cell_type": "code",
   "execution_count": 70,
   "id": "2cc71bdf-c235-4570-a9e6-4a9eeeb3872a",
   "metadata": {},
   "outputs": [
    {
     "data": {
      "image/png": "[encoded data removed]",
      "text/plain": [
       "<Figure size 1000x600 with 1 Axes>"
      ]
     },
     "metadata": {},
     "output_type": "display_data"
    }
   ],
   "source": [
    "# 1. Extract regressor and preprocessor from trained pipeline\n",
    "regressor = best_model.named_steps['regression']\n",
    "preprocessor = best_model.named_steps['preprocessor']\n",
    "\n",
    "# 2. Fit preprocessor separately on training data to get consistent feature names\n",
    "preprocessor.fit(X_train)\n",
    "\n",
    "# 3. Use get_feature_names_out on preprocessor directly\n",
    "feature_names = preprocessor.get_feature_names_out()\n",
    "\n",
    "# 4. Create DataFrame of importances\n",
    "feat_imp_df = pd.DataFrame({\n",
    "    'Feature': feature_names,\n",
    "    'Importance': regressor.feature_importances_\n",
    "}).sort_values(by='Importance', ascending=False)\n",
    "\n",
    "# 5. Plot top 20\n",
    "plt.figure(figsize=(10, 6))\n",
    "plt.barh(feat_imp_df['Feature'][:20][::-1], feat_imp_df['Importance'][:20][::-1])\n",
    "plt.title(\"Top 20 Important Features in Price Prediction\")\n",
    "plt.xlabel(\"Importance Score\")\n",
    "plt.tight_layout()\n",
    "plt.show()"
   ]
  },
  {
   "cell_type": "markdown",
   "id": "51f5a4c3-ac46-4f9d-927d-fdf05668ad03",
   "metadata": {},
   "source": [
    "###  Real-Time Laptop Price Prediction"
   ]
  },
  {
   "cell_type": "code",
   "execution_count": 71,
   "id": "8e9dde62-065a-4994-81be-373842ba79d4",
   "metadata": {},
   "outputs": [],
   "source": [
    "# Create a dictionary for a new laptop\n",
    "new_laptops_df = pd.read_csv(r\"D:\\ML\\new_laptops.csv\")"
   ]
  },
  {
   "cell_type": "code",
   "execution_count": 72,
   "id": "0aaebe98-ac83-4e23-8ae1-df349e0d0f49",
   "metadata": {},
   "outputs": [
    {
     "data": {
      "text/html": [
       "<div>\n",
       "<style scoped>\n",
       "    .dataframe tbody tr th:only-of-type {\n",
       "        vertical-align: middle;\n",
       "    }\n",
       "\n",
       "    .dataframe tbody tr th {\n",
       "        vertical-align: top;\n",
       "    }\n",
       "\n",
       "    .dataframe thead th {\n",
       "        text-align: right;\n",
       "    }\n",
       "</style>\n",
       "<table border=\"1\" class=\"dataframe\">\n",
       "  <thead>\n",
       "    <tr style=\"text-align: right;\">\n",
       "      <th></th>\n",
       "      <th>Company</th>\n",
       "      <th>TypeName</th>\n",
       "      <th>Cpu_brand</th>\n",
       "      <th>Gpu_brand</th>\n",
       "      <th>OS_Category</th>\n",
       "      <th>Inches</th>\n",
       "      <th>Ram</th>\n",
       "      <th>Weight</th>\n",
       "      <th>Touchscreen</th>\n",
       "      <th>IPS Technology</th>\n",
       "      <th>X_res</th>\n",
       "      <th>Y_res</th>\n",
       "      <th>PPI</th>\n",
       "      <th>SSD</th>\n",
       "      <th>HDD</th>\n",
       "      <th>Flash_Storage</th>\n",
       "      <th>Hybrid</th>\n",
       "    </tr>\n",
       "  </thead>\n",
       "  <tbody>\n",
       "    <tr>\n",
       "      <th>10</th>\n",
       "      <td>Apple</td>\n",
       "      <td>Ultrabook</td>\n",
       "      <td>Apple M2</td>\n",
       "      <td>Apple</td>\n",
       "      <td>Mac</td>\n",
       "      <td>14.0</td>\n",
       "      <td>16</td>\n",
       "      <td>1.6</td>\n",
       "      <td>0</td>\n",
       "      <td>1</td>\n",
       "      <td>3024</td>\n",
       "      <td>1964</td>\n",
       "      <td>254.73</td>\n",
       "      <td>512</td>\n",
       "      <td>0</td>\n",
       "      <td>0</td>\n",
       "      <td>0</td>\n",
       "    </tr>\n",
       "  </tbody>\n",
       "</table>\n",
       "</div>"
      ],
      "text/plain": [
       "   Company   TypeName Cpu_brand Gpu_brand OS_Category  Inches  Ram  Weight  \\\n",
       "10   Apple  Ultrabook  Apple M2     Apple         Mac    14.0   16     1.6   \n",
       "\n",
       "    Touchscreen  IPS Technology  X_res  Y_res     PPI  SSD  HDD  \\\n",
       "10            0               1   3024   1964  254.73  512    0   \n",
       "\n",
       "    Flash_Storage  Hybrid  \n",
       "10              0       0  "
      ]
     },
     "execution_count": 72,
     "metadata": {},
     "output_type": "execute_result"
    }
   ],
   "source": [
    "new_laptops_df.sample()"
   ]
  },
  {
   "cell_type": "code",
   "execution_count": 73,
   "id": "5d976f25-a31f-499a-b077-0ac46e2bcf5e",
   "metadata": {},
   "outputs": [],
   "source": [
    "predicted_prices = best_model.predict(new_laptops_df)"
   ]
  },
  {
   "cell_type": "code",
   "execution_count": 74,
   "id": "0a7da6ba-c100-4b31-8807-1f1497d3d105",
   "metadata": {},
   "outputs": [
    {
     "data": {
      "text/html": [
       "<div>\n",
       "<style scoped>\n",
       "    .dataframe tbody tr th:only-of-type {\n",
       "        vertical-align: middle;\n",
       "    }\n",
       "\n",
       "    .dataframe tbody tr th {\n",
       "        vertical-align: top;\n",
       "    }\n",
       "\n",
       "    .dataframe thead th {\n",
       "        text-align: right;\n",
       "    }\n",
       "</style>\n",
       "<table border=\"1\" class=\"dataframe\">\n",
       "  <thead>\n",
       "    <tr style=\"text-align: right;\">\n",
       "      <th></th>\n",
       "      <th>Company</th>\n",
       "      <th>TypeName</th>\n",
       "      <th>Cpu_brand</th>\n",
       "      <th>Predicted_Price</th>\n",
       "    </tr>\n",
       "  </thead>\n",
       "  <tbody>\n",
       "    <tr>\n",
       "      <th>0</th>\n",
       "      <td>Dell</td>\n",
       "      <td>Ultrabook</td>\n",
       "      <td>Intel Core i5</td>\n",
       "      <td>62935.407540</td>\n",
       "    </tr>\n",
       "    <tr>\n",
       "      <th>1</th>\n",
       "      <td>HP</td>\n",
       "      <td>Notebook</td>\n",
       "      <td>AMD Ryzen 5</td>\n",
       "      <td>43727.297136</td>\n",
       "    </tr>\n",
       "    <tr>\n",
       "      <th>2</th>\n",
       "      <td>Apple</td>\n",
       "      <td>Ultrabook</td>\n",
       "      <td>Apple M1</td>\n",
       "      <td>74659.174182</td>\n",
       "    </tr>\n",
       "    <tr>\n",
       "      <th>3</th>\n",
       "      <td>Lenovo</td>\n",
       "      <td>Gaming</td>\n",
       "      <td>Intel Core i7</td>\n",
       "      <td>92799.151789</td>\n",
       "    </tr>\n",
       "    <tr>\n",
       "      <th>4</th>\n",
       "      <td>Acer</td>\n",
       "      <td>Notebook</td>\n",
       "      <td>Intel Core i3</td>\n",
       "      <td>51179.321263</td>\n",
       "    </tr>\n",
       "  </tbody>\n",
       "</table>\n",
       "</div>"
      ],
      "text/plain": [
       "  Company   TypeName      Cpu_brand  Predicted_Price\n",
       "0    Dell  Ultrabook  Intel Core i5     62935.407540\n",
       "1      HP   Notebook    AMD Ryzen 5     43727.297136\n",
       "2   Apple  Ultrabook       Apple M1     74659.174182\n",
       "3  Lenovo     Gaming  Intel Core i7     92799.151789\n",
       "4    Acer   Notebook  Intel Core i3     51179.321263"
      ]
     },
     "execution_count": 74,
     "metadata": {},
     "output_type": "execute_result"
    }
   ],
   "source": [
    "new_laptops_df['Predicted_Price'] = predicted_prices\n",
    "new_laptops_df[['Company', 'TypeName', 'Cpu_brand', 'Predicted_Price']].head()\n"
   ]
  },
  {
   "cell_type": "code",
   "execution_count": 75,
   "id": "8de17963-9756-4770-89e0-92b77834d9c5",
   "metadata": {},
   "outputs": [
    {
     "data": {
      "image/png": "[encoded data removed]",
      "text/plain": [
       "<Figure size 640x480 with 1 Axes>"
      ]
     },
     "metadata": {},
     "output_type": "display_data"
    }
   ],
   "source": [
    "import matplotlib.pyplot as plt\n",
    "import seaborn as sns\n",
    "\n",
    "sns.histplot(predicted_prices, kde=True)\n",
    "plt.title(\"Distribution of Predicted Laptop Prices\")\n",
    "plt.xlabel(\"Predicted Price\")\n",
    "plt.show()\n"
   ]
  },
  {
   "cell_type": "markdown",
   "id": "1a48516f-5383-47bc-b9eb-dce78569cf4a",
   "metadata": {},
   "source": [
    " #### 2. Can the model accurately predict the prices of laptops from lesser-known brands?"
   ]
  },
  {
   "cell_type": "code",
   "execution_count": 78,
   "id": "49c190a1-4bb3-4136-8a77-3380fc5d44b5",
   "metadata": {},
   "outputs": [
    {
     "name": "stdout",
     "output_type": "stream",
     "text": [
      "MAE: 8732.123658273511\n",
      "RMSE: 11318.85933504321\n",
      "R2 Score: 0.8652980654417775\n"
     ]
    }
   ],
   "source": [
    "lesser_brands = ['MSI', 'Fujitsu', 'Samsung', 'Xiaomi', 'Google']\n",
    "mask = X_test['Company'].isin(lesser_brands)\n",
    "\n",
    "# Predict\n",
    "y_pred_lesser = best_model.predict(X_test[mask])\n",
    "y_true_lesser = y_test[mask]\n",
    "\n",
    "# Metrics\n",
    "from sklearn.metrics import mean_absolute_error, mean_squared_error, r2_score\n",
    "\n",
    "print(\"MAE:\", mean_absolute_error(y_true_lesser, y_pred_lesser))\n",
    "print(\"RMSE:\", np.sqrt(mean_squared_error(y_true_lesser, y_pred_lesser)))\n",
    "print(\"R2 Score:\", r2_score(y_true_lesser, y_pred_lesser))\n"
   ]
  },
  {
   "cell_type": "markdown",
   "id": "f84e3755-49c9-4c40-831f-65c1bb1a642d",
   "metadata": {},
   "source": [
    "#### 3. Does the brand of the laptop significantly influence its price?"
   ]
  },
  {
   "cell_type": "code",
   "execution_count": 79,
   "id": "4180f96f-001a-4423-bdaf-a8bd7a65532c",
   "metadata": {},
   "outputs": [
    {
     "data": {
      "text/plain": [
       "<Axes: xlabel='Company'>"
      ]
     },
     "execution_count": 79,
     "metadata": {},
     "output_type": "execute_result"
    },
    {
     "data": {
      "image/png": "[encoded data removed]",
      "text/plain": [
       "<Figure size 640x480 with 1 Axes>"
      ]
     },
     "metadata": {},
     "output_type": "display_data"
    }
   ],
   "source": [
    "df.groupby('Company')['Price'].mean().sort_values(ascending=False).plot(kind='bar')\n"
   ]
  },
  {
   "cell_type": "markdown",
   "id": "8a3be5ee-15a0-4215-b8de-c124ba486b69",
   "metadata": {},
   "source": [
    "#### 4. How well does the model perform on laptops with high-end specifications compared to budget laptops?"
   ]
  },
  {
   "cell_type": "code",
   "execution_count": 81,
   "id": "79b0b5de-4357-49e6-9a85-ce4620e127c2",
   "metadata": {},
   "outputs": [
    {
     "name": "stdout",
     "output_type": "stream",
     "text": [
      "Budget R2: 0.28470896272716206\n",
      "Premium R2: -2.2732782585710196\n"
     ]
    }
   ],
   "source": [
    "# Budget: Price < 50,000 | Premium: Price > 100,000\n",
    "budget_mask = y_test < 50000\n",
    "premium_mask = y_test > 100000\n",
    "\n",
    "# Predict\n",
    "y_pred_budget = best_model.predict(X_test[budget_mask])\n",
    "y_pred_premium = best_model.predict(X_test[premium_mask])\n",
    "\n",
    "print(\"Budget R2:\", r2_score(y_test[budget_mask], y_pred_budget))\n",
    "print(\"Premium R2:\", r2_score(y_test[premium_mask], y_pred_premium))"
   ]
  },
  {
   "cell_type": "markdown",
   "id": "2e8cf1d5-18f2-4da9-9da9-9bb0adab7886",
   "metadata": {},
   "source": [
    "#### 5. What are the limitations and challenges in predicting laptop prices accurately?"
   ]
  },
  {
   "cell_type": "markdown",
   "id": "eacf6311-d5dc-4fc7-bd1f-49a3cbe84105",
   "metadata": {},
   "source": [
    "##### 🧠 Insights:\n",
    "##### Subjective pricing factors like brand trust, warranty, customer service.\n",
    "##### Rapid hardware evolution (new CPUs/GPUs) make it hard to generalize.\n",
    "##### Missing values, dirty text data, and feature engineering limitations.\n",
    "##### Overfitting to training data if not careful during model tuning.\n",
    "##### Unseen categories can affect OneHotEncoding."
   ]
  },
  {
   "cell_type": "markdown",
   "id": "4704374a-6539-4c73-b7ef-84b70646c9ae",
   "metadata": {},
   "source": [
    "#### 6. How does the model perform when predicting the prices of newly released laptops not present in the training dataset?"
   ]
  },
  {
   "cell_type": "code",
   "execution_count": 83,
   "id": "96132c92-aef4-46a7-86f0-a6ca3291a82f",
   "metadata": {},
   "outputs": [
    {
     "data": {
      "text/html": [
       "<div>\n",
       "<style scoped>\n",
       "    .dataframe tbody tr th:only-of-type {\n",
       "        vertical-align: middle;\n",
       "    }\n",
       "\n",
       "    .dataframe tbody tr th {\n",
       "        vertical-align: top;\n",
       "    }\n",
       "\n",
       "    .dataframe thead th {\n",
       "        text-align: right;\n",
       "    }\n",
       "</style>\n",
       "<table border=\"1\" class=\"dataframe\">\n",
       "  <thead>\n",
       "    <tr style=\"text-align: right;\">\n",
       "      <th></th>\n",
       "      <th>Company</th>\n",
       "      <th>TypeName</th>\n",
       "      <th>Cpu_brand</th>\n",
       "      <th>Gpu_brand</th>\n",
       "      <th>OS_Category</th>\n",
       "      <th>Inches</th>\n",
       "      <th>Ram</th>\n",
       "      <th>Weight</th>\n",
       "      <th>Touchscreen</th>\n",
       "      <th>IPS Technology</th>\n",
       "      <th>X_res</th>\n",
       "      <th>Y_res</th>\n",
       "      <th>PPI</th>\n",
       "      <th>SSD</th>\n",
       "      <th>HDD</th>\n",
       "      <th>Flash_Storage</th>\n",
       "      <th>Hybrid</th>\n",
       "      <th>Predicted_Price</th>\n",
       "    </tr>\n",
       "  </thead>\n",
       "  <tbody>\n",
       "    <tr>\n",
       "      <th>0</th>\n",
       "      <td>Dell</td>\n",
       "      <td>Ultrabook</td>\n",
       "      <td>Intel Core i5</td>\n",
       "      <td>Intel</td>\n",
       "      <td>Windows</td>\n",
       "      <td>13.3</td>\n",
       "      <td>8</td>\n",
       "      <td>1.3</td>\n",
       "      <td>0</td>\n",
       "      <td>1</td>\n",
       "      <td>1920</td>\n",
       "      <td>1080</td>\n",
       "      <td>165.63</td>\n",
       "      <td>256</td>\n",
       "      <td>0</td>\n",
       "      <td>0</td>\n",
       "      <td>0</td>\n",
       "      <td>62935.407540</td>\n",
       "    </tr>\n",
       "    <tr>\n",
       "      <th>1</th>\n",
       "      <td>HP</td>\n",
       "      <td>Notebook</td>\n",
       "      <td>AMD Ryzen 5</td>\n",
       "      <td>AMD</td>\n",
       "      <td>Windows</td>\n",
       "      <td>15.6</td>\n",
       "      <td>16</td>\n",
       "      <td>2.0</td>\n",
       "      <td>0</td>\n",
       "      <td>1</td>\n",
       "      <td>1920</td>\n",
       "      <td>1080</td>\n",
       "      <td>141.21</td>\n",
       "      <td>512</td>\n",
       "      <td>0</td>\n",
       "      <td>0</td>\n",
       "      <td>0</td>\n",
       "      <td>43727.297136</td>\n",
       "    </tr>\n",
       "    <tr>\n",
       "      <th>2</th>\n",
       "      <td>Apple</td>\n",
       "      <td>Ultrabook</td>\n",
       "      <td>Apple M1</td>\n",
       "      <td>Apple</td>\n",
       "      <td>Mac</td>\n",
       "      <td>13.3</td>\n",
       "      <td>8</td>\n",
       "      <td>1.4</td>\n",
       "      <td>0</td>\n",
       "      <td>1</td>\n",
       "      <td>2560</td>\n",
       "      <td>1600</td>\n",
       "      <td>226.98</td>\n",
       "      <td>256</td>\n",
       "      <td>0</td>\n",
       "      <td>0</td>\n",
       "      <td>0</td>\n",
       "      <td>74659.174182</td>\n",
       "    </tr>\n",
       "    <tr>\n",
       "      <th>3</th>\n",
       "      <td>Lenovo</td>\n",
       "      <td>Gaming</td>\n",
       "      <td>Intel Core i7</td>\n",
       "      <td>Nvidia</td>\n",
       "      <td>Windows</td>\n",
       "      <td>17.3</td>\n",
       "      <td>16</td>\n",
       "      <td>2.7</td>\n",
       "      <td>0</td>\n",
       "      <td>1</td>\n",
       "      <td>1920</td>\n",
       "      <td>1080</td>\n",
       "      <td>127.34</td>\n",
       "      <td>512</td>\n",
       "      <td>1000</td>\n",
       "      <td>0</td>\n",
       "      <td>0</td>\n",
       "      <td>92799.151789</td>\n",
       "    </tr>\n",
       "    <tr>\n",
       "      <th>4</th>\n",
       "      <td>Acer</td>\n",
       "      <td>Notebook</td>\n",
       "      <td>Intel Core i3</td>\n",
       "      <td>Intel</td>\n",
       "      <td>Windows</td>\n",
       "      <td>14.0</td>\n",
       "      <td>4</td>\n",
       "      <td>1.9</td>\n",
       "      <td>0</td>\n",
       "      <td>0</td>\n",
       "      <td>1366</td>\n",
       "      <td>768</td>\n",
       "      <td>112.11</td>\n",
       "      <td>128</td>\n",
       "      <td>500</td>\n",
       "      <td>0</td>\n",
       "      <td>0</td>\n",
       "      <td>51179.321263</td>\n",
       "    </tr>\n",
       "  </tbody>\n",
       "</table>\n",
       "</div>"
      ],
      "text/plain": [
       "  Company   TypeName      Cpu_brand Gpu_brand OS_Category  Inches  Ram  \\\n",
       "0    Dell  Ultrabook  Intel Core i5     Intel     Windows    13.3    8   \n",
       "1      HP   Notebook    AMD Ryzen 5       AMD     Windows    15.6   16   \n",
       "2   Apple  Ultrabook       Apple M1     Apple         Mac    13.3    8   \n",
       "3  Lenovo     Gaming  Intel Core i7    Nvidia     Windows    17.3   16   \n",
       "4    Acer   Notebook  Intel Core i3     Intel     Windows    14.0    4   \n",
       "\n",
       "   Weight  Touchscreen  IPS Technology  X_res  Y_res     PPI  SSD   HDD  \\\n",
       "0     1.3            0               1   1920   1080  165.63  256     0   \n",
       "1     2.0            0               1   1920   1080  141.21  512     0   \n",
       "2     1.4            0               1   2560   1600  226.98  256     0   \n",
       "3     2.7            0               1   1920   1080  127.34  512  1000   \n",
       "4     1.9            0               0   1366    768  112.11  128   500   \n",
       "\n",
       "   Flash_Storage  Hybrid  Predicted_Price  \n",
       "0              0       0     62935.407540  \n",
       "1              0       0     43727.297136  \n",
       "2              0       0     74659.174182  \n",
       "3              0       0     92799.151789  \n",
       "4              0       0     51179.321263  "
      ]
     },
     "execution_count": 83,
     "metadata": {},
     "output_type": "execute_result"
    }
   ],
   "source": [
    "new_laptops_df.head() # New Data"
   ]
  },
  {
   "cell_type": "code",
   "execution_count": 84,
   "id": "6f16f88b-9fec-4d94-b4f7-e77fd8e61405",
   "metadata": {},
   "outputs": [],
   "source": [
    "predicted_prices = best_model.predict(new_laptops_df)"
   ]
  },
  {
   "cell_type": "code",
   "execution_count": 85,
   "id": "c7d20ff6-a8bd-4314-a4c0-dd27caf03dc1",
   "metadata": {},
   "outputs": [
    {
     "data": {
      "text/html": [
       "<div>\n",
       "<style scoped>\n",
       "    .dataframe tbody tr th:only-of-type {\n",
       "        vertical-align: middle;\n",
       "    }\n",
       "\n",
       "    .dataframe tbody tr th {\n",
       "        vertical-align: top;\n",
       "    }\n",
       "\n",
       "    .dataframe thead th {\n",
       "        text-align: right;\n",
       "    }\n",
       "</style>\n",
       "<table border=\"1\" class=\"dataframe\">\n",
       "  <thead>\n",
       "    <tr style=\"text-align: right;\">\n",
       "      <th></th>\n",
       "      <th>Company</th>\n",
       "      <th>TypeName</th>\n",
       "      <th>Cpu_brand</th>\n",
       "      <th>Predicted_Price</th>\n",
       "    </tr>\n",
       "  </thead>\n",
       "  <tbody>\n",
       "    <tr>\n",
       "      <th>0</th>\n",
       "      <td>Dell</td>\n",
       "      <td>Ultrabook</td>\n",
       "      <td>Intel Core i5</td>\n",
       "      <td>62935.407540</td>\n",
       "    </tr>\n",
       "    <tr>\n",
       "      <th>1</th>\n",
       "      <td>HP</td>\n",
       "      <td>Notebook</td>\n",
       "      <td>AMD Ryzen 5</td>\n",
       "      <td>43727.297136</td>\n",
       "    </tr>\n",
       "    <tr>\n",
       "      <th>2</th>\n",
       "      <td>Apple</td>\n",
       "      <td>Ultrabook</td>\n",
       "      <td>Apple M1</td>\n",
       "      <td>74659.174182</td>\n",
       "    </tr>\n",
       "    <tr>\n",
       "      <th>3</th>\n",
       "      <td>Lenovo</td>\n",
       "      <td>Gaming</td>\n",
       "      <td>Intel Core i7</td>\n",
       "      <td>92799.151789</td>\n",
       "    </tr>\n",
       "    <tr>\n",
       "      <th>4</th>\n",
       "      <td>Acer</td>\n",
       "      <td>Notebook</td>\n",
       "      <td>Intel Core i3</td>\n",
       "      <td>51179.321263</td>\n",
       "    </tr>\n",
       "  </tbody>\n",
       "</table>\n",
       "</div>"
      ],
      "text/plain": [
       "  Company   TypeName      Cpu_brand  Predicted_Price\n",
       "0    Dell  Ultrabook  Intel Core i5     62935.407540\n",
       "1      HP   Notebook    AMD Ryzen 5     43727.297136\n",
       "2   Apple  Ultrabook       Apple M1     74659.174182\n",
       "3  Lenovo     Gaming  Intel Core i7     92799.151789\n",
       "4    Acer   Notebook  Intel Core i3     51179.321263"
      ]
     },
     "execution_count": 85,
     "metadata": {},
     "output_type": "execute_result"
    }
   ],
   "source": [
    "new_laptops_df['Predicted_Price'] = predicted_prices\n",
    "new_laptops_df[['Company', 'TypeName', 'Cpu_brand', 'Predicted_Price']].head()"
   ]
  },
  {
   "cell_type": "code",
   "execution_count": null,
   "id": "0bcc2051-0c9a-405c-b4d2-4861b9e338e8",
   "metadata": {},
   "outputs": [],
   "source": []
  }
 ],
 "metadata": {
  "kernelspec": {
   "display_name": "Python 3 (ipykernel)",
   "language": "python",
   "name": "python3"
  },
  "language_info": {
   "codemirror_mode": {
    "name": "ipython",
    "version": 3
   },
   "file_extension": ".py",
   "mimetype": "text/x-python",
   "name": "python",
   "nbconvert_exporter": "python",
   "pygments_lexer": "ipython3",
   "version": "3.12.7"
  }
 },
 "nbformat": 4,
 "nbformat_minor": 5
}
